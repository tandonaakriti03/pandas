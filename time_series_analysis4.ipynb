{
  "nbformat": 4,
  "nbformat_minor": 0,
  "metadata": {
    "colab": {
      "provenance": []
    },
    "kernelspec": {
      "name": "python3",
      "display_name": "Python 3"
    },
    "language_info": {
      "name": "python"
    }
  },
  "cells": [
    {
      "cell_type": "code",
      "execution_count": 1,
      "metadata": {
        "colab": {
          "base_uri": "https://localhost:8080/"
        },
        "id": "hHKE-C-U4UDw",
        "outputId": "403ad35a-baf8-4ab0-d49d-4a66bae6231b"
      },
      "outputs": [
        {
          "output_type": "stream",
          "name": "stderr",
          "text": [
            "<ipython-input-1-972e57c43753>:5: UserWarning: Could not infer format, so each element will be parsed individually, falling back to `dateutil`. To ensure parsing is consistent and as-expected, please specify a format.\n",
            "  pd.to_datetime(dates)\n"
          ]
        },
        {
          "output_type": "execute_result",
          "data": {
            "text/plain": [
              "DatetimeIndex(['2017-01-05 14:20:00', '2017-01-05 14:30:00',\n",
              "               '2017-01-05 00:00:00', '2017-01-05 00:00:00',\n",
              "               '2017-01-05 00:00:00', '2017-01-05 00:00:00'],\n",
              "              dtype='datetime64[ns]', freq=None)"
            ]
          },
          "metadata": {},
          "execution_count": 1
        }
      ],
      "source": [
        "# to convert into common format\n",
        "import pandas as pd\n",
        "dates=['2017-01-05 2:20:00 pm','jan 5,2017 14:30:00','01/05/2017','2017.01.05','2017/01/05','20170105']\n",
        "\n",
        "pd.to_datetime(dates)"
      ]
    },
    {
      "cell_type": "code",
      "source": [
        "pd.to_datetime('5/1/2017',dayfirst=True)"
      ],
      "metadata": {
        "colab": {
          "base_uri": "https://localhost:8080/"
        },
        "id": "2kp4VWgk5Olf",
        "outputId": "2356379e-0ea8-4730-8285-5688b4870f31"
      },
      "execution_count": 2,
      "outputs": [
        {
          "output_type": "execute_result",
          "data": {
            "text/plain": [
              "Timestamp('2017-01-05 00:00:00')"
            ]
          },
          "metadata": {},
          "execution_count": 2
        }
      ]
    },
    {
      "cell_type": "code",
      "source": [
        "pd.to_datetime('5$1$2017',format='%d$%m$%Y')\n",
        "pd.to_datetime('5#1#2017',format='%d#%m#%Y')"
      ],
      "metadata": {
        "colab": {
          "base_uri": "https://localhost:8080/"
        },
        "id": "0mhvEf2x5rdH",
        "outputId": "eb6e99c3-397c-421b-98a0-26fdf69580f2"
      },
      "execution_count": 5,
      "outputs": [
        {
          "output_type": "execute_result",
          "data": {
            "text/plain": [
              "Timestamp('2017-01-05 00:00:00')"
            ]
          },
          "metadata": {},
          "execution_count": 5
        }
      ]
    },
    {
      "cell_type": "code",
      "source": [
        "dates=['2017-01-05 2:20:00 pm','jan 5,2017 14:30:00','01/05/2017','2017.01.05','2017/01/05','20170105','abc']\n",
        "\n",
        "pd.to_datetime(dates,errors='ignore') #will ignore entire stirng"
      ],
      "metadata": {
        "colab": {
          "base_uri": "https://localhost:8080/"
        },
        "id": "_7YzmouV6LXN",
        "outputId": "d4dc2ca7-ba8b-482e-ec78-e65119d631e4"
      },
      "execution_count": 6,
      "outputs": [
        {
          "output_type": "stream",
          "name": "stderr",
          "text": [
            "<ipython-input-6-36f9e6e0e7a2>:3: UserWarning: Could not infer format, so each element will be parsed individually, falling back to `dateutil`. To ensure parsing is consistent and as-expected, please specify a format.\n",
            "  pd.to_datetime(dates,errors='ignore')\n"
          ]
        },
        {
          "output_type": "execute_result",
          "data": {
            "text/plain": [
              "Index(['2017-01-05 2:20:00 pm', 'jan 5,2017 14:30:00', '01/05/2017',\n",
              "       '2017.01.05', '2017/01/05', '20170105', 'abc'],\n",
              "      dtype='object')"
            ]
          },
          "metadata": {},
          "execution_count": 6
        }
      ]
    },
    {
      "cell_type": "code",
      "source": [
        "dates=['2017-01-05 2:20:00 pm','jan 5,2017 14:30:00','01/05/2017','2017.01.05','2017/01/05','20170105','abc']\n",
        "\n",
        "pd.to_datetime(dates,errors='coerce')"
      ],
      "metadata": {
        "colab": {
          "base_uri": "https://localhost:8080/"
        },
        "id": "21k2HOBR6def",
        "outputId": "7ee3444e-4bd5-4f8a-c7ed-adeb9133ac5e"
      },
      "execution_count": 7,
      "outputs": [
        {
          "output_type": "stream",
          "name": "stderr",
          "text": [
            "<ipython-input-7-8d396aeccb7f>:3: UserWarning: Could not infer format, so each element will be parsed individually, falling back to `dateutil`. To ensure parsing is consistent and as-expected, please specify a format.\n",
            "  pd.to_datetime(dates,errors='coerce')\n"
          ]
        },
        {
          "output_type": "execute_result",
          "data": {
            "text/plain": [
              "DatetimeIndex(['2017-01-05 14:20:00', '2017-01-05 14:30:00',\n",
              "               '2017-01-05 00:00:00', '2017-01-05 00:00:00',\n",
              "               '2017-01-05 00:00:00', '2017-01-05 00:00:00',\n",
              "                               'NaT'],\n",
              "              dtype='datetime64[ns]', freq=None)"
            ]
          },
          "metadata": {},
          "execution_count": 7
        }
      ]
    },
    {
      "cell_type": "code",
      "source": [
        "t=1501356749\n",
        "dt=pd.to_datetime([t], unit='s')\n",
        "dt"
      ],
      "metadata": {
        "colab": {
          "base_uri": "https://localhost:8080/"
        },
        "id": "I8U-fgsu9hwl",
        "outputId": "42dd616a-875f-4dd1-8222-ba62e9be4d6d"
      },
      "execution_count": 9,
      "outputs": [
        {
          "output_type": "execute_result",
          "data": {
            "text/plain": [
              "DatetimeIndex(['2017-07-29 19:32:29'], dtype='datetime64[ns]', freq=None)"
            ]
          },
          "metadata": {},
          "execution_count": 9
        }
      ]
    },
    {
      "cell_type": "code",
      "source": [
        "dt.view('int64')"
      ],
      "metadata": {
        "colab": {
          "base_uri": "https://localhost:8080/"
        },
        "id": "LigHEZTn94SG",
        "outputId": "c9185adf-2500-4c5f-c9ec-68ea874c358a"
      },
      "execution_count": 10,
      "outputs": [
        {
          "output_type": "execute_result",
          "data": {
            "text/plain": [
              "array([1501356749000000000])"
            ]
          },
          "metadata": {},
          "execution_count": 10
        }
      ]
    }
  ]
}